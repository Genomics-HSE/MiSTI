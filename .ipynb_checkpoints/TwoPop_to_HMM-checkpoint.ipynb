{
 "cells": [
  {
   "cell_type": "code",
   "execution_count": null,
   "metadata": {
    "collapsed": true
   },
   "outputs": [],
   "source": [
    "import numpy\n",
    "import matplotlib.pyplot as plt"
   ]
  },
  {
   "cell_type": "code",
   "execution_count": 82,
   "metadata": {
    "collapsed": true
   },
   "outputs": [],
   "source": [
    "def ReadData(fn, chromNum = -1):\n",
    "    with open(fn) as f:\n",
    "        mode = \"u\"#'t' for tree, 's' for segsites\n",
    "        times = []\n",
    "        spans = []\n",
    "        counter = 0\n",
    "        for line in f:\n",
    "            if line.startswith(\"//\"):\n",
    "                mode = \"t\"\n",
    "                continue\n",
    "            elif line.startswith(\"@begin\"):\n",
    "                mode = \"s\"\n",
    "                continue\n",
    "            elif line.startswith(\"@end\"):\n",
    "                mode = \"u\"\n",
    "                counter += 1\n",
    "                if counter == chromNum:\n",
    "                    break\n",
    "                continue\n",
    "            if mode == \"t\":\n",
    "                s = line\n",
    "                span = int(s[s.find(\"[\")+1:s.find(\"]\")])\n",
    "                time = float(s[s.find(\":\")+1:s.find(\",\")])\n",
    "                times.append(time)\n",
    "                spans.append(span)\n",
    "    return([times, spans])"
   ]
  },
  {
   "cell_type": "code",
   "execution_count": 119,
   "metadata": {},
   "outputs": [
    {
     "name": "stdout",
     "output_type": "stream",
     "text": [
      "Number of trees\n",
      "193751 \t 209624\n",
      "Time stats\n",
      "1.40303522609 \t 1.44712863265\n",
      "0.796167975158 \t 0.782026038721\n",
      "Trackt length stats\n",
      "1548.37910514 \t 1431.13383964\n",
      "4751.14312693 \t 6295.84493302\n"
     ]
    }
   ],
   "source": [
    "path = \"data_std_migr_same1\"\n",
    "path = \"test_hmm\"\n",
    "f1 = path+\"/sim_coal_rate1000.ms\"\n",
    "f2 = path+\"/sim_std_same.ms\"\n",
    "times1, trackts1 = ReadData(f1, 100)\n",
    "times2, trackts2 = ReadData(f2, 100)\n",
    "print(\"Number of trees\")\n",
    "print(len(times1), \"\\t\", len(times2))\n",
    "print(\"Time stats\")\n",
    "print(numpy.mean(times1), \"\\t\", numpy.mean(times2))\n",
    "print(numpy.std(times1), \"\\t\", numpy.std(times2))\n",
    "print(\"Trackt length stats\")\n",
    "print(numpy.mean(trackts1), \"\\t\", numpy.mean(trackts2))\n",
    "print(numpy.std(trackts1), \"\\t\", numpy.std(trackts2))"
   ]
  },
  {
   "cell_type": "code",
   "execution_count": 124,
   "metadata": {},
   "outputs": [
    {
     "name": "stdout",
     "output_type": "stream",
     "text": [
      "193751 \t 193751\n",
      "209624 \t 209624\n"
     ]
    }
   ],
   "source": [
    "maxval = -10000\n",
    "tr1 = [v/1000 for v in trackts1 if maxval < 0 or v < maxval]\n",
    "print(len(trackts1), \"\\t\", len(tr1))\n",
    "tr2 = [v/1000 for v in trackts2 if maxval < 0 or v < maxval]\n",
    "print(len(trackts2), \"\\t\", len(tr2))"
   ]
  },
  {
   "cell_type": "code",
   "execution_count": 135,
   "metadata": {},
   "outputs": [
    {
     "data": {
      "image/png": "[encoded data removed]",
      "text/plain": [
       "<matplotlib.figure.Figure at 0x17e4e1828>"
      ]
     },
     "metadata": {},
     "output_type": "display_data"
    }
   ],
   "source": [
    "xmax=4\n",
    "ymax=1.25\n",
    "\n",
    "plt.figure(1)\n",
    "plt.subplot(121)\n",
    "axes = plt.gca()\n",
    "axes.set_xlim([0,xmax])\n",
    "axes.set_ylim([0,ymax])\n",
    "plt.hist(times1, bins=200, weights=tr1, normed=True)\n",
    "plt.title(\"Coalescence rates\")\n",
    "plt.subplot(122)\n",
    "axes = plt.gca()\n",
    "axes.set_xlim([0,xmax])\n",
    "axes.set_ylim([0,ymax])\n",
    "plt.hist(times2, bins=200, weights=tr2, normed=True)\n",
    "plt.title(\"True simulation\")\n",
    "plt.show()"
   ]
  },
  {
   "cell_type": "code",
   "execution_count": null,
   "metadata": {
    "scrolled": false
   },
   "outputs": [],
   "source": [
    "plt.figure(2)\n",
    "plt.subplot(121)\n",
    "#axes = plt.gca()\n",
    "#axes.set_xlim([0,xmax])\n",
    "#axes.set_ylim([0,ymax])\n",
    "plt.hist(tr1, bins='auto')\n",
    "plt.title(\"Coalescence rates\")\n",
    "plt.subplot(122)\n",
    "#axes = plt.gca()\n",
    "#axes.set_xlim([0,xmax])\n",
    "#axes.set_ylim([0,ymax])\n",
    "plt.hist(tr2, bins='auto')\n",
    "plt.title(\"True simulation\")\n",
    "plt.show()"
   ]
  },
  {
   "cell_type": "code",
   "execution_count": 79,
   "metadata": {},
   "outputs": [
    {
     "name": "stdout",
     "output_type": "stream",
     "text": [
      "(array([210638, 133174, 107338,  33802,   9785,   2916,    779,    197,\n",
      "           52,      8]), array([  7.20000000e-04,   7.43230000e-01,   1.48574000e+00,\n",
      "         2.22825000e+00,   2.97076000e+00,   3.71327000e+00,\n",
      "         4.45578000e+00,   5.19829000e+00,   5.94080000e+00,\n",
      "         6.68331000e+00,   7.42582000e+00]))\n",
      "2\n"
     ]
    }
   ],
   "source": [
    "timeHist = numpy.histogram(times)\n",
    "print(timeHist[0:10])\n",
    "print(len(timeHist))"
   ]
  },
  {
   "cell_type": "code",
   "execution_count": 77,
   "metadata": {},
   "outputs": [
    {
     "data": {
      "image/png": "[encoded data removed]",
      "text/plain": [
       "<matplotlib.figure.Figure at 0x165cd1208>"
      ]
     },
     "metadata": {},
     "output_type": "display_data"
    }
   ],
   "source": [
    "maxval = 10000\n",
    "tr1 = [trackts1[i] for i in range(len(times1)) if times1[i] < 1.25 and trackts1[i] < maxval]\n",
    "tr2 = [trackts2[i] for i in range(len(times2)) if times2[i] < 1.25 and trackts2[i] < maxval]\n",
    "plt.figure(2)\n",
    "axes = plt.gca()\n",
    "#axes.set_xlim([0,4000])\n",
    "plt.hist(tr2, bins='auto', normed=True)\n",
    "plt.hist(tr1, bins='auto', normed=True)\n",
    "plt.show()"
   ]
  },
  {
   "cell_type": "code",
   "execution_count": 133,
   "metadata": {},
   "outputs": [
    {
     "data": {
      "text/plain": [
       "'1.13.1'"
      ]
     },
     "execution_count": 133,
     "metadata": {},
     "output_type": "execute_result"
    }
   ],
   "source": [
    "import numpy\n",
    "numpy.version.version"
   ]
  },
  {
   "cell_type": "code",
   "execution_count": null,
   "metadata": {
    "collapsed": true
   },
   "outputs": [],
   "source": []
  }
 ],
 "metadata": {
  "kernelspec": {
   "display_name": "Python 3",
   "language": "python",
   "name": "python3"
  }
 },
 "nbformat": 4,
 "nbformat_minor": 2
}
